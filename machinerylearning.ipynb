{
 "metadata": {
  "language_info": {
   "codemirror_mode": {
    "name": "ipython",
    "version": 3
   },
   "file_extension": ".py",
   "mimetype": "text/x-python",
   "name": "python",
   "nbconvert_exporter": "python",
   "pygments_lexer": "ipython3",
   "version": "3.8.8-final"
  },
  "orig_nbformat": 2,
  "kernelspec": {
   "name": "python3",
   "display_name": "Python 3.8.8 64-bit ('venv')",
   "metadata": {
    "interpreter": {
     "hash": "e3c2d92b6e239aad369f1369790a07b0fa693f0bc3953098bc777aa22931a33a"
    }
   }
  }
 },
 "nbformat": 4,
 "nbformat_minor": 2,
 "cells": [
  {
   "cell_type": "code",
   "execution_count": 13,
   "metadata": {},
   "outputs": [
    {
     "output_type": "stream",
     "name": "stdout",
     "text": [
      "Requirement already satisfied: sklearn in ./venv/lib/python3.8/site-packages (from -r requirements.txt (line 1)) (0.0)\n",
      "Requirement already satisfied: numpy in ./venv/lib/python3.8/site-packages (from -r requirements.txt (line 2)) (1.20.1)\n",
      "Requirement already satisfied: pandas in ./venv/lib/python3.8/site-packages (from -r requirements.txt (line 3)) (1.2.3)\n",
      "Requirement already satisfied: jupyter in ./venv/lib/python3.8/site-packages (from -r requirements.txt (line 4)) (1.0.0)\n",
      "Collecting matplotlib\n",
      "  Downloading matplotlib-3.3.4-cp38-cp38-macosx_10_9_x86_64.whl (8.5 MB)\n",
      "\u001b[K     |████████████████████████████████| 8.5 MB 6.5 MB/s \n",
      "\u001b[?25hRequirement already satisfied: scikit-learn in ./venv/lib/python3.8/site-packages (from sklearn->-r requirements.txt (line 1)) (0.24.1)\n",
      "Requirement already satisfied: pytz>=2017.3 in ./venv/lib/python3.8/site-packages (from pandas->-r requirements.txt (line 3)) (2021.1)\n",
      "Requirement already satisfied: python-dateutil>=2.7.3 in ./venv/lib/python3.8/site-packages (from pandas->-r requirements.txt (line 3)) (2.8.1)\n",
      "Requirement already satisfied: notebook in ./venv/lib/python3.8/site-packages (from jupyter->-r requirements.txt (line 4)) (6.2.0)\n",
      "Requirement already satisfied: ipykernel in ./venv/lib/python3.8/site-packages (from jupyter->-r requirements.txt (line 4)) (5.5.0)\n",
      "Requirement already satisfied: jupyter-console in ./venv/lib/python3.8/site-packages (from jupyter->-r requirements.txt (line 4)) (6.2.0)\n",
      "Requirement already satisfied: qtconsole in ./venv/lib/python3.8/site-packages (from jupyter->-r requirements.txt (line 4)) (5.0.2)\n",
      "Requirement already satisfied: nbconvert in ./venv/lib/python3.8/site-packages (from jupyter->-r requirements.txt (line 4)) (6.0.7)\n",
      "Requirement already satisfied: ipywidgets in ./venv/lib/python3.8/site-packages (from jupyter->-r requirements.txt (line 4)) (7.6.3)\n",
      "Collecting kiwisolver>=1.0.1\n",
      "  Downloading kiwisolver-1.3.1-cp38-cp38-macosx_10_9_x86_64.whl (61 kB)\n",
      "\u001b[K     |████████████████████████████████| 61 kB 352 kB/s \n",
      "\u001b[?25hRequirement already satisfied: pyparsing!=2.0.4,!=2.1.2,!=2.1.6,>=2.0.3 in ./venv/lib/python3.8/site-packages (from matplotlib->-r requirements.txt (line 5)) (2.4.7)\n",
      "Collecting cycler>=0.10\n",
      "  Using cached cycler-0.10.0-py2.py3-none-any.whl (6.5 kB)\n",
      "Collecting pillow>=6.2.0\n",
      "  Downloading Pillow-8.1.2-cp38-cp38-macosx_10_10_x86_64.whl (2.2 MB)\n",
      "\u001b[K     |████████████████████████████████| 2.2 MB 6.0 MB/s \n",
      "\u001b[?25hRequirement already satisfied: joblib>=0.11 in ./venv/lib/python3.8/site-packages (from scikit-learn->sklearn->-r requirements.txt (line 1)) (1.0.1)\n",
      "Requirement already satisfied: scipy>=0.19.1 in ./venv/lib/python3.8/site-packages (from scikit-learn->sklearn->-r requirements.txt (line 1)) (1.6.1)\n",
      "Requirement already satisfied: threadpoolctl>=2.0.0 in ./venv/lib/python3.8/site-packages (from scikit-learn->sklearn->-r requirements.txt (line 1)) (2.1.0)\n",
      "Requirement already satisfied: six>=1.5 in ./venv/lib/python3.8/site-packages (from python-dateutil>=2.7.3->pandas->-r requirements.txt (line 3)) (1.15.0)\n",
      "Requirement already satisfied: jupyter-client>=5.3.4 in ./venv/lib/python3.8/site-packages (from notebook->jupyter->-r requirements.txt (line 4)) (6.1.11)\n",
      "Requirement already satisfied: jinja2 in ./venv/lib/python3.8/site-packages (from notebook->jupyter->-r requirements.txt (line 4)) (2.11.3)\n",
      "Requirement already satisfied: ipython-genutils in ./venv/lib/python3.8/site-packages (from notebook->jupyter->-r requirements.txt (line 4)) (0.2.0)\n",
      "Requirement already satisfied: pyzmq>=17 in ./venv/lib/python3.8/site-packages (from notebook->jupyter->-r requirements.txt (line 4)) (22.0.3)\n",
      "Requirement already satisfied: Send2Trash>=1.5.0 in ./venv/lib/python3.8/site-packages (from notebook->jupyter->-r requirements.txt (line 4)) (1.5.0)\n",
      "Requirement already satisfied: tornado>=6.1 in ./venv/lib/python3.8/site-packages (from notebook->jupyter->-r requirements.txt (line 4)) (6.1)\n",
      "Requirement already satisfied: terminado>=0.8.3 in ./venv/lib/python3.8/site-packages (from notebook->jupyter->-r requirements.txt (line 4)) (0.9.2)\n",
      "Requirement already satisfied: prometheus-client in ./venv/lib/python3.8/site-packages (from notebook->jupyter->-r requirements.txt (line 4)) (0.9.0)\n",
      "Requirement already satisfied: nbformat in ./venv/lib/python3.8/site-packages (from notebook->jupyter->-r requirements.txt (line 4)) (5.1.2)\n",
      "Requirement already satisfied: argon2-cffi in ./venv/lib/python3.8/site-packages (from notebook->jupyter->-r requirements.txt (line 4)) (20.1.0)\n",
      "Requirement already satisfied: jupyter-core>=4.6.1 in ./venv/lib/python3.8/site-packages (from notebook->jupyter->-r requirements.txt (line 4)) (4.7.1)\n",
      "Requirement already satisfied: traitlets>=4.2.1 in ./venv/lib/python3.8/site-packages (from notebook->jupyter->-r requirements.txt (line 4)) (5.0.5)\n",
      "Requirement already satisfied: appnope; platform_system == \"Darwin\" in ./venv/lib/python3.8/site-packages (from ipykernel->jupyter->-r requirements.txt (line 4)) (0.1.2)\n",
      "Requirement already satisfied: ipython>=5.0.0 in ./venv/lib/python3.8/site-packages (from ipykernel->jupyter->-r requirements.txt (line 4)) (7.21.0)\n",
      "Requirement already satisfied: pygments in ./venv/lib/python3.8/site-packages (from jupyter-console->jupyter->-r requirements.txt (line 4)) (2.8.1)\n",
      "Requirement already satisfied: prompt-toolkit!=3.0.0,!=3.0.1,<3.1.0,>=2.0.0 in ./venv/lib/python3.8/site-packages (from jupyter-console->jupyter->-r requirements.txt (line 4)) (3.0.17)\n",
      "Requirement already satisfied: qtpy in ./venv/lib/python3.8/site-packages (from qtconsole->jupyter->-r requirements.txt (line 4)) (1.9.0)\n",
      "Requirement already satisfied: bleach in ./venv/lib/python3.8/site-packages (from nbconvert->jupyter->-r requirements.txt (line 4)) (3.3.0)\n",
      "Requirement already satisfied: testpath in ./venv/lib/python3.8/site-packages (from nbconvert->jupyter->-r requirements.txt (line 4)) (0.4.4)\n",
      "Requirement already satisfied: nbclient<0.6.0,>=0.5.0 in ./venv/lib/python3.8/site-packages (from nbconvert->jupyter->-r requirements.txt (line 4)) (0.5.3)\n",
      "Requirement already satisfied: defusedxml in ./venv/lib/python3.8/site-packages (from nbconvert->jupyter->-r requirements.txt (line 4)) (0.7.1)\n",
      "Requirement already satisfied: jupyterlab-pygments in ./venv/lib/python3.8/site-packages (from nbconvert->jupyter->-r requirements.txt (line 4)) (0.1.2)\n",
      "Requirement already satisfied: entrypoints>=0.2.2 in ./venv/lib/python3.8/site-packages (from nbconvert->jupyter->-r requirements.txt (line 4)) (0.3)\n",
      "Requirement already satisfied: mistune<2,>=0.8.1 in ./venv/lib/python3.8/site-packages (from nbconvert->jupyter->-r requirements.txt (line 4)) (0.8.4)\n",
      "Requirement already satisfied: pandocfilters>=1.4.1 in ./venv/lib/python3.8/site-packages (from nbconvert->jupyter->-r requirements.txt (line 4)) (1.4.3)\n",
      "Requirement already satisfied: widgetsnbextension~=3.5.0 in ./venv/lib/python3.8/site-packages (from ipywidgets->jupyter->-r requirements.txt (line 4)) (3.5.1)\n",
      "Requirement already satisfied: jupyterlab-widgets>=1.0.0; python_version >= \"3.6\" in ./venv/lib/python3.8/site-packages (from ipywidgets->jupyter->-r requirements.txt (line 4)) (1.0.0)\n",
      "Requirement already satisfied: MarkupSafe>=0.23 in ./venv/lib/python3.8/site-packages (from jinja2->notebook->jupyter->-r requirements.txt (line 4)) (1.1.1)\n",
      "Requirement already satisfied: ptyprocess; os_name != \"nt\" in ./venv/lib/python3.8/site-packages (from terminado>=0.8.3->notebook->jupyter->-r requirements.txt (line 4)) (0.7.0)\n",
      "Requirement already satisfied: jsonschema!=2.5.0,>=2.4 in ./venv/lib/python3.8/site-packages (from nbformat->notebook->jupyter->-r requirements.txt (line 4)) (3.2.0)\n",
      "Requirement already satisfied: cffi>=1.0.0 in ./venv/lib/python3.8/site-packages (from argon2-cffi->notebook->jupyter->-r requirements.txt (line 4)) (1.14.5)\n",
      "Requirement already satisfied: setuptools>=18.5 in ./venv/lib/python3.8/site-packages (from ipython>=5.0.0->ipykernel->jupyter->-r requirements.txt (line 4)) (49.2.1)\n",
      "Requirement already satisfied: jedi>=0.16 in ./venv/lib/python3.8/site-packages (from ipython>=5.0.0->ipykernel->jupyter->-r requirements.txt (line 4)) (0.18.0)\n",
      "Requirement already satisfied: decorator in ./venv/lib/python3.8/site-packages (from ipython>=5.0.0->ipykernel->jupyter->-r requirements.txt (line 4)) (4.4.2)\n",
      "Requirement already satisfied: pexpect>4.3; sys_platform != \"win32\" in ./venv/lib/python3.8/site-packages (from ipython>=5.0.0->ipykernel->jupyter->-r requirements.txt (line 4)) (4.8.0)\n",
      "Requirement already satisfied: backcall in ./venv/lib/python3.8/site-packages (from ipython>=5.0.0->ipykernel->jupyter->-r requirements.txt (line 4)) (0.2.0)\n",
      "Requirement already satisfied: pickleshare in ./venv/lib/python3.8/site-packages (from ipython>=5.0.0->ipykernel->jupyter->-r requirements.txt (line 4)) (0.7.5)\n",
      "Requirement already satisfied: wcwidth in ./venv/lib/python3.8/site-packages (from prompt-toolkit!=3.0.0,!=3.0.1,<3.1.0,>=2.0.0->jupyter-console->jupyter->-r requirements.txt (line 4)) (0.2.5)\n",
      "Requirement already satisfied: webencodings in ./venv/lib/python3.8/site-packages (from bleach->nbconvert->jupyter->-r requirements.txt (line 4)) (0.5.1)\n",
      "Requirement already satisfied: packaging in ./venv/lib/python3.8/site-packages (from bleach->nbconvert->jupyter->-r requirements.txt (line 4)) (20.9)\n",
      "Requirement already satisfied: nest-asyncio in ./venv/lib/python3.8/site-packages (from nbclient<0.6.0,>=0.5.0->nbconvert->jupyter->-r requirements.txt (line 4)) (1.5.1)\n",
      "Requirement already satisfied: async-generator in ./venv/lib/python3.8/site-packages (from nbclient<0.6.0,>=0.5.0->nbconvert->jupyter->-r requirements.txt (line 4)) (1.10)\n",
      "Requirement already satisfied: pyrsistent>=0.14.0 in ./venv/lib/python3.8/site-packages (from jsonschema!=2.5.0,>=2.4->nbformat->notebook->jupyter->-r requirements.txt (line 4)) (0.17.3)\n",
      "Requirement already satisfied: attrs>=17.4.0 in ./venv/lib/python3.8/site-packages (from jsonschema!=2.5.0,>=2.4->nbformat->notebook->jupyter->-r requirements.txt (line 4)) (20.3.0)\n",
      "Requirement already satisfied: pycparser in ./venv/lib/python3.8/site-packages (from cffi>=1.0.0->argon2-cffi->notebook->jupyter->-r requirements.txt (line 4)) (2.20)\n",
      "Requirement already satisfied: parso<0.9.0,>=0.8.0 in ./venv/lib/python3.8/site-packages (from jedi>=0.16->ipython>=5.0.0->ipykernel->jupyter->-r requirements.txt (line 4)) (0.8.1)\n",
      "Installing collected packages: kiwisolver, cycler, pillow, matplotlib\n",
      "Successfully installed cycler-0.10.0 kiwisolver-1.3.1 matplotlib-3.3.4 pillow-8.1.2\n",
      "\u001b[33mWARNING: You are using pip version 20.2.3; however, version 21.0.1 is available.\n",
      "You should consider upgrading via the '/Users/christianboin/MyDocuments/Programming/Python/KmeansRegrets/venv/bin/python3 -m pip install --upgrade pip' command.\u001b[0m\n"
     ]
    }
   ],
   "source": [
    "! pip install -r requirements.txt"
   ]
  },
  {
   "source": [
    "# MNIST Clustered with Kmeans\n",
    "\n",
    "We will aim to cluster the MNIST data set, imported from ```sklearn``` using Kmeans. In addition, we will output experiments into folders, including plots, latex formatted tables etc."
   ],
   "cell_type": "markdown",
   "metadata": {}
  },
  {
   "source": [
    "## Inititialization\n",
    "\n",
    "The below code initializes global variables, and anything for outputting the data"
   ],
   "cell_type": "markdown",
   "metadata": {}
  },
  {
   "cell_type": "code",
   "execution_count": 62,
   "metadata": {},
   "outputs": [],
   "source": [
    "import sys, os\n",
    "import sklearn\n",
    "from sklearn import datasets\n",
    "from sklearn.cluster import KMeans\n",
    "import pandas as pd\n",
    "import numpy\n",
    "import matplotlib.pyplot as plt\n",
    "\n",
    "def initialize(root, dirs):\n",
    "    \"\"\"\n",
    "    Initialize directories for data outputs.\n",
    "    Arguments:\n",
    "        root (str) : the root directory for the program\n",
    "        dirs (list) : the list of directories to create\n",
    "    \"\"\"\n",
    "    for dr in dirs:\n",
    "        path = os.path.join(root, dr)\n",
    "        if not os.path.exists(path):\n",
    "            os.mkdir(os.path.join(root, dr))\n",
    "\n",
    "\n",
    "data_dirs = ['out_kmeans', 'out_regression', 'out_clustering']\n",
    "root = sys.path[0]\n",
    "\n",
    "# create any folders for outputting data.\n",
    "initialize(root, data_dirs)"
   ]
  },
  {
   "source": [
    "## I : Kmeans\n",
    "\n",
    "We will define some functions to be used in the kmeans analysis. See the docstrings for the function's workings."
   ],
   "cell_type": "markdown",
   "metadata": {}
  },
  {
   "cell_type": "code",
   "execution_count": 63,
   "metadata": {},
   "outputs": [],
   "source": [
    "def visualize_mnist(mnist_imgs, mnist_lbls, nrows, ncols, figsize: tuple):\n",
    "    _, axes = plt.subplots(nrows=nrows, ncols=ncols, figsize=figsize)\n",
    "    for ax, lbl, img in zip(axes, mnist_lbls, mnist_imgs):\n",
    "        ax.set_axis_off() # turn off the aves for pretty plots\n",
    "        ax.imshow(img, cmap=plt.cm.gray_r, interpolation='nearest')\n",
    "        ax.set_title(f\"Training label = {lbl}\")\n",
    "\n",
    "def apply_kmeans(data_vectors, K):\n",
    "    \"\"\"\n",
    "    Applies the kmeans algorithm to data\n",
    "    Arguments:\n",
    "        data_vectors (list, np.array) : list of data vectors\n",
    "        K            (int)            : the k value for the clustering i.e. number of clusters\n",
    "    Return: \n",
    "        (list, list, list) : group assignment indices, K group representative vectors, value of Jclust per iteration\n",
    "    \"\"\"\n",
    "    # kmeans class initialized with random assignment of datapoints to the K group.\n",
    "    kmeans = KMeans(n_clusters=K, init='random', verbose=1, n_init=1).fit(data_vectors)\n",
    "    return kmeans.labels_, kmeans.cluster_centers_, kmeans.inertia_\n",
    "\n"
   ]
  },
  {
   "source": [
    "Now, we will load the mnist data, which ```sklearn``` provides in a 3D array representation of 8x8 images. We will flatten each 8x8 image into a 2D array of length 64 for our data representation, and apply kmeans to that data."
   ],
   "cell_type": "markdown",
   "metadata": {}
  },
  {
   "cell_type": "code",
   "execution_count": 64,
   "metadata": {},
   "outputs": [
    {
     "output_type": "stream",
     "name": "stdout",
     "text": [
      "Note the data shape before flattening: (1797, 8, 8)\nAnd after: (1797, 64)\n"
     ]
    },
    {
     "output_type": "display_data",
     "data": {
      "text/plain": "<Figure size 576x360 with 4 Axes>",
      "image/svg+xml": "<?xml version=\"1.0\" encoding=\"utf-8\" standalone=\"no\"?>\n<!DOCTYPE svg PUBLIC \"-//W3C//DTD SVG 1.1//EN\"\n  \"http://www.w3.org/Graphics/SVG/1.1/DTD/svg11.dtd\">\n<!-- Created with matplotlib (https://matplotlib.org/) -->\n<svg height=\"126.561603pt\" version=\"1.1\" viewBox=\"0 0 469.253397 126.561603\" width=\"469.253397pt\" xmlns=\"http://www.w3.org/2000/svg\" xmlns:xlink=\"http://www.w3.org/1999/xlink\">\n <metadata>\n  <rdf:RDF xmlns:cc=\"http://creativecommons.org/ns#\" xmlns:dc=\"http://purl.org/dc/elements/1.1/\" xmlns:rdf=\"http://www.w3.org/1999/02/22-rdf-syntax-ns#\">\n   <cc:Work>\n    <dc:type rdf:resource=\"http://purl.org/dc/dcmitype/StillImage\"/>\n    <dc:date>2021-03-11T21:36:20.348213</dc:date>\n    <dc:format>image/svg+xml</dc:format>\n    <dc:creator>\n     <cc:Agent>\n      <dc:title>Matplotlib v3.3.4, https://matplotlib.org/</dc:title>\n     </cc:Agent>\n    </dc:creator>\n   </cc:Work>\n  </rdf:RDF>\n </metadata>\n <defs>\n  <style type=\"text/css\">*{stroke-linecap:butt;stroke-linejoin:round;}</style>\n </defs>\n <g id=\"figure_1\">\n  <g id=\"patch_1\">\n   <path d=\"M 0 126.561603 \nL 469.253397 126.561603 \nL 469.253397 0 \nL 0 0 \nz\n\" style=\"fill:none;\"/>\n  </g>\n  <g id=\"axes_1\">\n   <g clip-path=\"url(#p523cbfa7a9)\">\n    <image height=\"98\" id=\"image3d4b49c101\" transform=\"scale(1 -1)translate(0 -98)\" width=\"98\" x=\"11.426698\" xlink:href=\"data:image/png;base64,\niVBORw0KGgoAAAANSUhEUgAAAGIAAABiCAYAAACrpQYOAAAB1klEQVR4nO3cUbGCUBRG4eOdW4AIagSMQAUqUMEKUsEIGgEraAONABG4DzfBzwy4Htb3vBGdNedlD7Kb53kuK7per/E1l8slmj+dTtH87XaL5rfw8+0voH+GgDAEhCEgDAFhCAhDQBgCwhAQhoAwBMQu3TV9Pp/oBnVdR/Ol5Pup+/0ezb/f72j++XxG80t4IiAMAWEICENAGALCEBCGgDAEhCEgDAFhCAhDQPymF6RLv/Thr1JKads2mm+aZtX5vu+j+VJKOZ/P0bwnAsIQEIaAMASEISAMAWEICENAGALCEBCGgIh3TdM0RfNLHjBLVVUVzaf7r/Q3L+GJgDAEhCEgDAFhCAhDQBgCwhAQhoAwBIQhIOJdU7rXGYYhvUX84qxU+hu24ImAMASEISAMAWEICENAGALCEBCGgDAEhCEgVt81vV6v9Bbx//QOh0M0n74Ia4tnszwREIaAMASEISAMAWEICENAGALCEBCGgDAEhCEg4qVfugDb7/fpLcrxeIzm0xdtPR6PaL7rumh+CU8EhCEgDAFhCAhDQBgCwhAQhoAwBIQhIAwBEe+aUlu84Dx96G0cx1U/fwlPBIQhIAwBYQgIQ0AYAsIQEIaAMASEISAMAfEHcqZDXE99N8kAAAAASUVORK5CYII=\" y=\"-21.361603\"/>\n   </g>\n   <g id=\"text_1\">\n    <!-- Training label = 0 -->\n    <g transform=\"translate(7.2 16.318125)scale(0.12 -0.12)\">\n     <defs>\n      <path d=\"M -0.296875 72.90625 \nL 61.375 72.90625 \nL 61.375 64.59375 \nL 35.5 64.59375 \nL 35.5 0 \nL 25.59375 0 \nL 25.59375 64.59375 \nL -0.296875 64.59375 \nz\n\" id=\"DejaVuSans-84\"/>\n      <path d=\"M 41.109375 46.296875 \nQ 39.59375 47.171875 37.8125 47.578125 \nQ 36.03125 48 33.890625 48 \nQ 26.265625 48 22.1875 43.046875 \nQ 18.109375 38.09375 18.109375 28.8125 \nL 18.109375 0 \nL 9.078125 0 \nL 9.078125 54.6875 \nL 18.109375 54.6875 \nL 18.109375 46.1875 \nQ 20.953125 51.171875 25.484375 53.578125 \nQ 30.03125 56 36.53125 56 \nQ 37.453125 56 38.578125 55.875 \nQ 39.703125 55.765625 41.0625 55.515625 \nz\n\" id=\"DejaVuSans-114\"/>\n      <path d=\"M 34.28125 27.484375 \nQ 23.390625 27.484375 19.1875 25 \nQ 14.984375 22.515625 14.984375 16.5 \nQ 14.984375 11.71875 18.140625 8.90625 \nQ 21.296875 6.109375 26.703125 6.109375 \nQ 34.1875 6.109375 38.703125 11.40625 \nQ 43.21875 16.703125 43.21875 25.484375 \nL 43.21875 27.484375 \nz\nM 52.203125 31.203125 \nL 52.203125 0 \nL 43.21875 0 \nL 43.21875 8.296875 \nQ 40.140625 3.328125 35.546875 0.953125 \nQ 30.953125 -1.421875 24.3125 -1.421875 \nQ 15.921875 -1.421875 10.953125 3.296875 \nQ 6 8.015625 6 15.921875 \nQ 6 25.140625 12.171875 29.828125 \nQ 18.359375 34.515625 30.609375 34.515625 \nL 43.21875 34.515625 \nL 43.21875 35.40625 \nQ 43.21875 41.609375 39.140625 45 \nQ 35.0625 48.390625 27.6875 48.390625 \nQ 23 48.390625 18.546875 47.265625 \nQ 14.109375 46.140625 10.015625 43.890625 \nL 10.015625 52.203125 \nQ 14.9375 54.109375 19.578125 55.046875 \nQ 24.21875 56 28.609375 56 \nQ 40.484375 56 46.34375 49.84375 \nQ 52.203125 43.703125 52.203125 31.203125 \nz\n\" id=\"DejaVuSans-97\"/>\n      <path d=\"M 9.421875 54.6875 \nL 18.40625 54.6875 \nL 18.40625 0 \nL 9.421875 0 \nz\nM 9.421875 75.984375 \nL 18.40625 75.984375 \nL 18.40625 64.59375 \nL 9.421875 64.59375 \nz\n\" id=\"DejaVuSans-105\"/>\n      <path d=\"M 54.890625 33.015625 \nL 54.890625 0 \nL 45.90625 0 \nL 45.90625 32.71875 \nQ 45.90625 40.484375 42.875 44.328125 \nQ 39.84375 48.1875 33.796875 48.1875 \nQ 26.515625 48.1875 22.3125 43.546875 \nQ 18.109375 38.921875 18.109375 30.90625 \nL 18.109375 0 \nL 9.078125 0 \nL 9.078125 54.6875 \nL 18.109375 54.6875 \nL 18.109375 46.1875 \nQ 21.34375 51.125 25.703125 53.5625 \nQ 30.078125 56 35.796875 56 \nQ 45.21875 56 50.046875 50.171875 \nQ 54.890625 44.34375 54.890625 33.015625 \nz\n\" id=\"DejaVuSans-110\"/>\n      <path d=\"M 45.40625 27.984375 \nQ 45.40625 37.75 41.375 43.109375 \nQ 37.359375 48.484375 30.078125 48.484375 \nQ 22.859375 48.484375 18.828125 43.109375 \nQ 14.796875 37.75 14.796875 27.984375 \nQ 14.796875 18.265625 18.828125 12.890625 \nQ 22.859375 7.515625 30.078125 7.515625 \nQ 37.359375 7.515625 41.375 12.890625 \nQ 45.40625 18.265625 45.40625 27.984375 \nz\nM 54.390625 6.78125 \nQ 54.390625 -7.171875 48.1875 -13.984375 \nQ 42 -20.796875 29.203125 -20.796875 \nQ 24.46875 -20.796875 20.265625 -20.09375 \nQ 16.0625 -19.390625 12.109375 -17.921875 \nL 12.109375 -9.1875 \nQ 16.0625 -11.328125 19.921875 -12.34375 \nQ 23.78125 -13.375 27.78125 -13.375 \nQ 36.625 -13.375 41.015625 -8.765625 \nQ 45.40625 -4.15625 45.40625 5.171875 \nL 45.40625 9.625 \nQ 42.625 4.78125 38.28125 2.390625 \nQ 33.9375 0 27.875 0 \nQ 17.828125 0 11.671875 7.65625 \nQ 5.515625 15.328125 5.515625 27.984375 \nQ 5.515625 40.671875 11.671875 48.328125 \nQ 17.828125 56 27.875 56 \nQ 33.9375 56 38.28125 53.609375 \nQ 42.625 51.21875 45.40625 46.390625 \nL 45.40625 54.6875 \nL 54.390625 54.6875 \nz\n\" id=\"DejaVuSans-103\"/>\n      <path id=\"DejaVuSans-32\"/>\n      <path d=\"M 9.421875 75.984375 \nL 18.40625 75.984375 \nL 18.40625 0 \nL 9.421875 0 \nz\n\" id=\"DejaVuSans-108\"/>\n      <path d=\"M 48.6875 27.296875 \nQ 48.6875 37.203125 44.609375 42.84375 \nQ 40.53125 48.484375 33.40625 48.484375 \nQ 26.265625 48.484375 22.1875 42.84375 \nQ 18.109375 37.203125 18.109375 27.296875 \nQ 18.109375 17.390625 22.1875 11.75 \nQ 26.265625 6.109375 33.40625 6.109375 \nQ 40.53125 6.109375 44.609375 11.75 \nQ 48.6875 17.390625 48.6875 27.296875 \nz\nM 18.109375 46.390625 \nQ 20.953125 51.265625 25.265625 53.625 \nQ 29.59375 56 35.59375 56 \nQ 45.5625 56 51.78125 48.09375 \nQ 58.015625 40.1875 58.015625 27.296875 \nQ 58.015625 14.40625 51.78125 6.484375 \nQ 45.5625 -1.421875 35.59375 -1.421875 \nQ 29.59375 -1.421875 25.265625 0.953125 \nQ 20.953125 3.328125 18.109375 8.203125 \nL 18.109375 0 \nL 9.078125 0 \nL 9.078125 75.984375 \nL 18.109375 75.984375 \nz\n\" id=\"DejaVuSans-98\"/>\n      <path d=\"M 56.203125 29.59375 \nL 56.203125 25.203125 \nL 14.890625 25.203125 \nQ 15.484375 15.921875 20.484375 11.0625 \nQ 25.484375 6.203125 34.421875 6.203125 \nQ 39.59375 6.203125 44.453125 7.46875 \nQ 49.3125 8.734375 54.109375 11.28125 \nL 54.109375 2.78125 \nQ 49.265625 0.734375 44.1875 -0.34375 \nQ 39.109375 -1.421875 33.890625 -1.421875 \nQ 20.796875 -1.421875 13.15625 6.1875 \nQ 5.515625 13.8125 5.515625 26.8125 \nQ 5.515625 40.234375 12.765625 48.109375 \nQ 20.015625 56 32.328125 56 \nQ 43.359375 56 49.78125 48.890625 \nQ 56.203125 41.796875 56.203125 29.59375 \nz\nM 47.21875 32.234375 \nQ 47.125 39.59375 43.09375 43.984375 \nQ 39.0625 48.390625 32.421875 48.390625 \nQ 24.90625 48.390625 20.390625 44.140625 \nQ 15.875 39.890625 15.1875 32.171875 \nz\n\" id=\"DejaVuSans-101\"/>\n      <path d=\"M 10.59375 45.40625 \nL 73.1875 45.40625 \nL 73.1875 37.203125 \nL 10.59375 37.203125 \nz\nM 10.59375 25.484375 \nL 73.1875 25.484375 \nL 73.1875 17.1875 \nL 10.59375 17.1875 \nz\n\" id=\"DejaVuSans-61\"/>\n      <path d=\"M 31.78125 66.40625 \nQ 24.171875 66.40625 20.328125 58.90625 \nQ 16.5 51.421875 16.5 36.375 \nQ 16.5 21.390625 20.328125 13.890625 \nQ 24.171875 6.390625 31.78125 6.390625 \nQ 39.453125 6.390625 43.28125 13.890625 \nQ 47.125 21.390625 47.125 36.375 \nQ 47.125 51.421875 43.28125 58.90625 \nQ 39.453125 66.40625 31.78125 66.40625 \nz\nM 31.78125 74.21875 \nQ 44.046875 74.21875 50.515625 64.515625 \nQ 56.984375 54.828125 56.984375 36.375 \nQ 56.984375 17.96875 50.515625 8.265625 \nQ 44.046875 -1.421875 31.78125 -1.421875 \nQ 19.53125 -1.421875 13.0625 8.265625 \nQ 6.59375 17.96875 6.59375 36.375 \nQ 6.59375 54.828125 13.0625 64.515625 \nQ 19.53125 74.21875 31.78125 74.21875 \nz\n\" id=\"DejaVuSans-48\"/>\n     </defs>\n     <use xlink:href=\"#DejaVuSans-84\"/>\n     <use x=\"46.333984\" xlink:href=\"#DejaVuSans-114\"/>\n     <use x=\"87.447266\" xlink:href=\"#DejaVuSans-97\"/>\n     <use x=\"148.726562\" xlink:href=\"#DejaVuSans-105\"/>\n     <use x=\"176.509766\" xlink:href=\"#DejaVuSans-110\"/>\n     <use x=\"239.888672\" xlink:href=\"#DejaVuSans-105\"/>\n     <use x=\"267.671875\" xlink:href=\"#DejaVuSans-110\"/>\n     <use x=\"331.050781\" xlink:href=\"#DejaVuSans-103\"/>\n     <use x=\"394.527344\" xlink:href=\"#DejaVuSans-32\"/>\n     <use x=\"426.314453\" xlink:href=\"#DejaVuSans-108\"/>\n     <use x=\"454.097656\" xlink:href=\"#DejaVuSans-97\"/>\n     <use x=\"515.376953\" xlink:href=\"#DejaVuSans-98\"/>\n     <use x=\"578.853516\" xlink:href=\"#DejaVuSans-101\"/>\n     <use x=\"640.376953\" xlink:href=\"#DejaVuSans-108\"/>\n     <use x=\"668.160156\" xlink:href=\"#DejaVuSans-32\"/>\n     <use x=\"699.947266\" xlink:href=\"#DejaVuSans-61\"/>\n     <use x=\"783.736328\" xlink:href=\"#DejaVuSans-32\"/>\n     <use x=\"815.523438\" xlink:href=\"#DejaVuSans-48\"/>\n    </g>\n   </g>\n  </g>\n  <g id=\"axes_2\">\n   <g clip-path=\"url(#p0f32428537)\">\n    <image height=\"98\" id=\"image0b1c5e202a\" transform=\"scale(1 -1)translate(0 -98)\" width=\"98\" x=\"127.878872\" xlink:href=\"data:image/png;base64,\niVBORw0KGgoAAAANSUhEUgAAAGIAAABiCAYAAACrpQYOAAABlElEQVR4nO3dTY2EQBgG4Z3NCsAJSAAHOAApSMABWMAJUkABK2Au+3bSO3Wo5/zxk1T60hl6Xs/zPF8w4zhG88dxRPPTNEXz+75H8yW+qz9Bf2IICENAGALCEBCGgDAEhCEgDAFhCAhDQPzUfsB1XfE16d5Rqu/7qvcv4YqAMASEISAMAWEICENAGALCEBCGgDAEhCEgDAFhCAhDQBgCwhAQhoAwBIQhIAwBYQgIQ0AYAsIQENV/YEbUdd2nX+GNKwLCEBCGgDAEhCEgDAFhCAhDQBgCwhAQhoCI95rWdY3ml2VJH1Fd0zSffoU3rggIQ0AYAsIQEIaAMASEISAMAWEICENAGALiVfuQ9vM842vSg63u+47mt22L5ud5juZLuCIgDAFhCAhDQBgCwhAQhoAwBIQhIAwBYQgIQ0BU/5ix5MPBdNMvPV2/ZCOyNlcEhCEgDAFhCAhDQBgCwhAQhoAwBIQhIAwBgTw4K/03x7Zto/lhGKL5/+CKgDAEhCEgDAFhCAhDQBgCwhAQhoAwBIQhIH4BXLUrS0ckBl4AAAAASUVORK5CYII=\" y=\"-21.361603\"/>\n   </g>\n   <g id=\"text_2\">\n    <!-- Training label = 1 -->\n    <g transform=\"translate(123.652174 16.318125)scale(0.12 -0.12)\">\n     <defs>\n      <path d=\"M 12.40625 8.296875 \nL 28.515625 8.296875 \nL 28.515625 63.921875 \nL 10.984375 60.40625 \nL 10.984375 69.390625 \nL 28.421875 72.90625 \nL 38.28125 72.90625 \nL 38.28125 8.296875 \nL 54.390625 8.296875 \nL 54.390625 0 \nL 12.40625 0 \nz\n\" id=\"DejaVuSans-49\"/>\n     </defs>\n     <use xlink:href=\"#DejaVuSans-84\"/>\n     <use x=\"46.333984\" xlink:href=\"#DejaVuSans-114\"/>\n     <use x=\"87.447266\" xlink:href=\"#DejaVuSans-97\"/>\n     <use x=\"148.726562\" xlink:href=\"#DejaVuSans-105\"/>\n     <use x=\"176.509766\" xlink:href=\"#DejaVuSans-110\"/>\n     <use x=\"239.888672\" xlink:href=\"#DejaVuSans-105\"/>\n     <use x=\"267.671875\" xlink:href=\"#DejaVuSans-110\"/>\n     <use x=\"331.050781\" xlink:href=\"#DejaVuSans-103\"/>\n     <use x=\"394.527344\" xlink:href=\"#DejaVuSans-32\"/>\n     <use x=\"426.314453\" xlink:href=\"#DejaVuSans-108\"/>\n     <use x=\"454.097656\" xlink:href=\"#DejaVuSans-97\"/>\n     <use x=\"515.376953\" xlink:href=\"#DejaVuSans-98\"/>\n     <use x=\"578.853516\" xlink:href=\"#DejaVuSans-101\"/>\n     <use x=\"640.376953\" xlink:href=\"#DejaVuSans-108\"/>\n     <use x=\"668.160156\" xlink:href=\"#DejaVuSans-32\"/>\n     <use x=\"699.947266\" xlink:href=\"#DejaVuSans-61\"/>\n     <use x=\"783.736328\" xlink:href=\"#DejaVuSans-32\"/>\n     <use x=\"815.523438\" xlink:href=\"#DejaVuSans-49\"/>\n    </g>\n   </g>\n  </g>\n  <g id=\"axes_3\">\n   <g clip-path=\"url(#pbd643832ad)\">\n    <image height=\"98\" id=\"image42a45c654a\" transform=\"scale(1 -1)translate(0 -98)\" width=\"98\" x=\"244.331046\" xlink:href=\"data:image/png;base64,\niVBORw0KGgoAAAANSUhEUgAAAGIAAABiCAYAAACrpQYOAAAB10lEQVR4nO3cQY3CUBRG4ctk9iChEqgDUAAS6qBIAAeVgARQgAVwUAl10FnO+m9SchbnW9+mJCdvc0PfZp7nuWDe73c0f71eo/nn8xnN930fzVdVDcMQzf/Eb9AqDAFhCAhDQBgCwhAQhoAwBIQhIAwBYQiI3/SBdA/UdV36ivp8PvEzidPpFM0fj8eVfsk/TwSEISAMAWEICENAGALCEBCGgDAEhCEgDAFhCIh46Xe/36P5tRd4VVWPxyOaT5d+3+CJgDAEhCEgDAFhCAhDQBgCwhAQhoAwBIQhIDbpx4zTNEUvSD/qq8p3R+M4rjq/2+2i+SU8ERCGgDAEhCEgDAFhCAhDQBgCwhAQhoAwBES8a0qlu6mqfNd0uVyi+cPhEM2nv2cJTwSEISAMAWEICENAGALCEBCGgDAEhCEgDAGx+q4pvUC9Kt/tnM/naP52u0Xz37jH3hMBYQgIQ0AYAsIQEIaAMASEISAMAWEICENAGAJi9aVfert+VVXbttH8druN5tOPE9OPH5fwREAYAsIQEIaAMASEISAMAWEICENAGALCEBDxJe2p/X4fP/N6vaL59A9mTdNE89/giYAwBIQhIAwBYQgIQ0AYAsIQEIaAMASEISD+AG3tVNIhZHl2AAAAAElFTkSuQmCC\" y=\"-21.361603\"/>\n   </g>\n   <g id=\"text_3\">\n    <!-- Training label = 2 -->\n    <g transform=\"translate(240.104348 16.318125)scale(0.12 -0.12)\">\n     <defs>\n      <path d=\"M 19.1875 8.296875 \nL 53.609375 8.296875 \nL 53.609375 0 \nL 7.328125 0 \nL 7.328125 8.296875 \nQ 12.9375 14.109375 22.625 23.890625 \nQ 32.328125 33.6875 34.8125 36.53125 \nQ 39.546875 41.84375 41.421875 45.53125 \nQ 43.3125 49.21875 43.3125 52.78125 \nQ 43.3125 58.59375 39.234375 62.25 \nQ 35.15625 65.921875 28.609375 65.921875 \nQ 23.96875 65.921875 18.8125 64.3125 \nQ 13.671875 62.703125 7.8125 59.421875 \nL 7.8125 69.390625 \nQ 13.765625 71.78125 18.9375 73 \nQ 24.125 74.21875 28.421875 74.21875 \nQ 39.75 74.21875 46.484375 68.546875 \nQ 53.21875 62.890625 53.21875 53.421875 \nQ 53.21875 48.921875 51.53125 44.890625 \nQ 49.859375 40.875 45.40625 35.40625 \nQ 44.1875 33.984375 37.640625 27.21875 \nQ 31.109375 20.453125 19.1875 8.296875 \nz\n\" id=\"DejaVuSans-50\"/>\n     </defs>\n     <use xlink:href=\"#DejaVuSans-84\"/>\n     <use x=\"46.333984\" xlink:href=\"#DejaVuSans-114\"/>\n     <use x=\"87.447266\" xlink:href=\"#DejaVuSans-97\"/>\n     <use x=\"148.726562\" xlink:href=\"#DejaVuSans-105\"/>\n     <use x=\"176.509766\" xlink:href=\"#DejaVuSans-110\"/>\n     <use x=\"239.888672\" xlink:href=\"#DejaVuSans-105\"/>\n     <use x=\"267.671875\" xlink:href=\"#DejaVuSans-110\"/>\n     <use x=\"331.050781\" xlink:href=\"#DejaVuSans-103\"/>\n     <use x=\"394.527344\" xlink:href=\"#DejaVuSans-32\"/>\n     <use x=\"426.314453\" xlink:href=\"#DejaVuSans-108\"/>\n     <use x=\"454.097656\" xlink:href=\"#DejaVuSans-97\"/>\n     <use x=\"515.376953\" xlink:href=\"#DejaVuSans-98\"/>\n     <use x=\"578.853516\" xlink:href=\"#DejaVuSans-101\"/>\n     <use x=\"640.376953\" xlink:href=\"#DejaVuSans-108\"/>\n     <use x=\"668.160156\" xlink:href=\"#DejaVuSans-32\"/>\n     <use x=\"699.947266\" xlink:href=\"#DejaVuSans-61\"/>\n     <use x=\"783.736328\" xlink:href=\"#DejaVuSans-32\"/>\n     <use x=\"815.523438\" xlink:href=\"#DejaVuSans-50\"/>\n    </g>\n   </g>\n  </g>\n  <g id=\"axes_4\">\n   <g clip-path=\"url(#pa1d2d22138)\">\n    <image height=\"98\" id=\"image333d2cff90\" transform=\"scale(1 -1)translate(0 -98)\" width=\"98\" x=\"360.78322\" xlink:href=\"data:image/png;base64,\niVBORw0KGgoAAAANSUhEUgAAAGIAAABiCAYAAACrpQYOAAABxUlEQVR4nO3cwW2DQBQG4XWUBijBcgm0YFqBFigBl2BKoAZaMS1QAjnkkGt+pLVG8nznh7A02svT4stxHEep6PF4xM88n88Kv+RP13XRfO3fU0opX9XfoH8xBIQhIAwBYQgIQ0AYAsIQEIaAMASEISC+a79g3/f4mXmeq76j7/to/ox0P+WJgDAEhCEgDAFhCAhDQBgCwhAQhoAwBIQhIAwBUX3pN01T7VfES7/0glnTNNH8GZ4ICENAGALCEBCGgDAEhCEgDAFhCAhDQBgC4lL7Y8Yz0t3R/X6v9Et+resaP5PupzwREIaAMASEISAMAWEICENAGALCEBCGgDAERPV7Tdu2xc/cbrdoPt01LcsSzXuv6YMYAsIQEIaAMASEISAMAWEICENAGALCEBDxrindHZ3Z01yv12j+9XpF8+/YHaU8ERCGgDAEhCEgDAFhCAhDQBgCwhAQhoAwBIQhIOKlX/pP9ullrlJKGccxmh+GIZpPP06s/bFkKZ4IDENAGALCEBCGgDAEhCEgDAFhCAhDQBgCIt41pX+6fuYyV7o7Si+ktW0bzb+DJwLCEBCGgDAEhCEgDAFhCAhDQBgCwhAQhoD4AQ9UPfKt04K9AAAAAElFTkSuQmCC\" y=\"-21.361603\"/>\n   </g>\n   <g id=\"text_4\">\n    <!-- Training label = 3 -->\n    <g transform=\"translate(356.556522 16.318125)scale(0.12 -0.12)\">\n     <defs>\n      <path d=\"M 40.578125 39.3125 \nQ 47.65625 37.796875 51.625 33 \nQ 55.609375 28.21875 55.609375 21.1875 \nQ 55.609375 10.40625 48.1875 4.484375 \nQ 40.765625 -1.421875 27.09375 -1.421875 \nQ 22.515625 -1.421875 17.65625 -0.515625 \nQ 12.796875 0.390625 7.625 2.203125 \nL 7.625 11.71875 \nQ 11.71875 9.328125 16.59375 8.109375 \nQ 21.484375 6.890625 26.8125 6.890625 \nQ 36.078125 6.890625 40.9375 10.546875 \nQ 45.796875 14.203125 45.796875 21.1875 \nQ 45.796875 27.640625 41.28125 31.265625 \nQ 36.765625 34.90625 28.71875 34.90625 \nL 20.21875 34.90625 \nL 20.21875 43.015625 \nL 29.109375 43.015625 \nQ 36.375 43.015625 40.234375 45.921875 \nQ 44.09375 48.828125 44.09375 54.296875 \nQ 44.09375 59.90625 40.109375 62.90625 \nQ 36.140625 65.921875 28.71875 65.921875 \nQ 24.65625 65.921875 20.015625 65.03125 \nQ 15.375 64.15625 9.8125 62.3125 \nL 9.8125 71.09375 \nQ 15.4375 72.65625 20.34375 73.4375 \nQ 25.25 74.21875 29.59375 74.21875 \nQ 40.828125 74.21875 47.359375 69.109375 \nQ 53.90625 64.015625 53.90625 55.328125 \nQ 53.90625 49.265625 50.4375 45.09375 \nQ 46.96875 40.921875 40.578125 39.3125 \nz\n\" id=\"DejaVuSans-51\"/>\n     </defs>\n     <use xlink:href=\"#DejaVuSans-84\"/>\n     <use x=\"46.333984\" xlink:href=\"#DejaVuSans-114\"/>\n     <use x=\"87.447266\" xlink:href=\"#DejaVuSans-97\"/>\n     <use x=\"148.726562\" xlink:href=\"#DejaVuSans-105\"/>\n     <use x=\"176.509766\" xlink:href=\"#DejaVuSans-110\"/>\n     <use x=\"239.888672\" xlink:href=\"#DejaVuSans-105\"/>\n     <use x=\"267.671875\" xlink:href=\"#DejaVuSans-110\"/>\n     <use x=\"331.050781\" xlink:href=\"#DejaVuSans-103\"/>\n     <use x=\"394.527344\" xlink:href=\"#DejaVuSans-32\"/>\n     <use x=\"426.314453\" xlink:href=\"#DejaVuSans-108\"/>\n     <use x=\"454.097656\" xlink:href=\"#DejaVuSans-97\"/>\n     <use x=\"515.376953\" xlink:href=\"#DejaVuSans-98\"/>\n     <use x=\"578.853516\" xlink:href=\"#DejaVuSans-101\"/>\n     <use x=\"640.376953\" xlink:href=\"#DejaVuSans-108\"/>\n     <use x=\"668.160156\" xlink:href=\"#DejaVuSans-32\"/>\n     <use x=\"699.947266\" xlink:href=\"#DejaVuSans-61\"/>\n     <use x=\"783.736328\" xlink:href=\"#DejaVuSans-32\"/>\n     <use x=\"815.523438\" xlink:href=\"#DejaVuSans-51\"/>\n    </g>\n   </g>\n  </g>\n </g>\n <defs>\n  <clipPath id=\"p523cbfa7a9\">\n   <rect height=\"97.043478\" width=\"97.043478\" x=\"11.426698\" y=\"22.318125\"/>\n  </clipPath>\n  <clipPath id=\"p0f32428537\">\n   <rect height=\"97.043478\" width=\"97.043478\" x=\"127.878872\" y=\"22.318125\"/>\n  </clipPath>\n  <clipPath id=\"pbd643832ad\">\n   <rect height=\"97.043478\" width=\"97.043478\" x=\"244.331046\" y=\"22.318125\"/>\n  </clipPath>\n  <clipPath id=\"pa1d2d22138\">\n   <rect height=\"97.043478\" width=\"97.043478\" x=\"360.78322\" y=\"22.318125\"/>\n  </clipPath>\n </defs>\n</svg>\n",
      "image/png": "[encoded data removed]"
     },
     "metadata": {
      "needs_background": "light"
     }
    }
   ],
   "source": [
    "mnist_digits = datasets.load_digits()\n",
    "visualize_mnist(mnist_digits.images, mnist_digits.target, 1,4, (8, 5))\n",
    "\n",
    "print(f\"Note the data shape before flattening: {mnist_digits.images.shape}\")\n",
    "mnist_data = mnist_digits.images.reshape((len(mnist_digits.images), -1))\n",
    "print(f\"And after: {mnist_data.shape}\")"
   ]
  },
  {
   "cell_type": "code",
   "execution_count": 65,
   "metadata": {},
   "outputs": [
    {
     "output_type": "stream",
     "name": "stdout",
     "text": [
      "Initialization complete\n",
      "Iteration 0, inertia 1615594.0\n",
      "Iteration 1, inertia 1073071.3827870972\n",
      "Iteration 2, inertia 1035211.1232276447\n",
      "Iteration 3, inertia 1018496.5358306842\n",
      "Iteration 4, inertia 1010110.0784138197\n",
      "Iteration 5, inertia 1005038.2130064847\n",
      "Iteration 6, inertia 1000559.000645897\n",
      "Iteration 7, inertia 994930.993552733\n",
      "Iteration 8, inertia 989299.888063085\n",
      "Iteration 9, inertia 986043.2031471293\n",
      "Iteration 10, inertia 985023.373582912\n",
      "Iteration 11, inertia 983940.8543076935\n",
      "Iteration 12, inertia 983290.4238814231\n",
      "Iteration 13, inertia 983050.5540379068\n",
      "Iteration 14, inertia 982993.8726105049\n",
      "Iteration 15, inertia 982913.4594652372\n",
      "Iteration 16, inertia 982775.7571767202\n",
      "Iteration 17, inertia 982498.1156871027\n",
      "Iteration 18, inertia 982250.3871645611\n",
      "Iteration 19, inertia 982083.7987982774\n",
      "Iteration 20, inertia 981660.9174050933\n",
      "Iteration 21, inertia 981049.8159610704\n",
      "Iteration 22, inertia 980265.2768169241\n",
      "Iteration 23, inertia 979698.4535643358\n",
      "Iteration 24, inertia 979419.38526152\n",
      "Iteration 25, inertia 979381.9940607981\n",
      "Iteration 26, inertia 979363.2655943251\n",
      "Converged at iteration 26: strict convergence.\n",
      "979363.265594325\n"
     ]
    }
   ],
   "source": [
    "gr_assign_indices, rep_vecs, j_clust = apply_kmeans(mnist_data, 20)\n",
    "\n",
    "print(j_clust)"
   ]
  },
  {
   "source": [
    "## II : Regression\n"
   ],
   "cell_type": "markdown",
   "metadata": {}
  },
  {
   "cell_type": "code",
   "execution_count": 66,
   "metadata": {},
   "outputs": [],
   "source": [
    "park_data_fname = 'Parking_lots_dataset.csv'\n",
    "\n",
    "park_data_fpath = os.path.join(root, park_data_fname)\n",
    "\n",
    "df = pd.read_csv(park_data_fpath)"
   ]
  },
  {
   "cell_type": "code",
   "execution_count": null,
   "metadata": {},
   "outputs": [],
   "source": []
  },
  {
   "cell_type": "code",
   "execution_count": null,
   "metadata": {},
   "outputs": [],
   "source": []
  }
 ]
}